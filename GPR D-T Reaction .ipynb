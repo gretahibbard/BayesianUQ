{
 "cells": [
  {
   "cell_type": "code",
   "execution_count": 1,
   "id": "8171e36f",
   "metadata": {},
   "outputs": [],
   "source": [
    "import numpy as np"
   ]
  },
  {
   "cell_type": "code",
   "execution_count": 2,
   "id": "c0845f69",
   "metadata": {},
   "outputs": [],
   "source": [
    "from sklearn.gaussian_process import GaussianProcessRegressor\n",
    "from sklearn.gaussian_process.kernels import DotProduct, WhiteKernel"
   ]
  },
  {
   "cell_type": "code",
   "execution_count": 3,
   "id": "0098fe95",
   "metadata": {},
   "outputs": [],
   "source": [
    "#function for sepearating data \n",
    "def separate_data(data):\n",
    "    lines = data.strip().split('\\n')\n",
    "    COM = []\n",
    "    COMerror = []\n",
    "    sfactor = []\n",
    "    sfactorerror = []\n",
    "\n",
    "    for line in lines:\n",
    "        parts = line.split()\n",
    "        COM.append(float(parts[0]))\n",
    "        COMerror.append(float(parts[1]))\n",
    "        sfactor.append(float(parts[2]))\n",
    "        sfactorerror.append(float(parts[3]))\n",
    "\n",
    "    return COM, COMerror, sfactor, sfactorerror"
   ]
  },
  {
   "cell_type": "code",
   "execution_count": 4,
   "id": "6f4d5022",
   "metadata": {},
   "outputs": [
    {
     "name": "stdout",
     "output_type": "stream",
     "text": [
      "ConnerCOM: [0.01242, 0.01548, 0.0186, 0.0207, 0.02178, 0.0249, 0.02802, 0.0291, 0.0312, 0.03324, 0.03426, 0.03738, 0.0405, 0.04158, 0.04368, 0.04572, 0.0468, 0.04998, 0.05418, 0.05622, 0.05826, 0.0624, 0.0654, 0.0666, 0.069, 0.075, 0.0804, 0.0816, 0.0858, 0.0876, 0.0918, 0.0936, 0.0972, 0.1002, 0.1038, 0.1098, 0.123, 0.1362, 0.1506, 0.1656, 0.1812, 0.1974, 0.2142]\n",
      "ConnerCOM Error: [6e-05, 6.8e-05, 7.7e-05, 8.2e-05, 8.5e-05, 9.3e-05, 0.000102, 0.000105, 0.00011, 0.000116, 0.000118, 0.000127, 0.000135, 0.000138, 0.000143, 0.000149, 0.000152, 0.000161, 0.000172, 0.000177, 0.000183, 0.000193, 0.000202, 0.000205, 0.000211, 0.000227, 0.000242, 0.000245, 0.000256, 0.000261, 0.000272, 0.000277, 0.000287, 0.000295, 0.000304, 0.00032, 0.000356, 0.000392, 0.00043, 0.00047, 0.000512, 0.000555, 0.0006]\n",
      "Conner S Factor: [13.227, 15.174, 15.79, 17.328, 17.378, 18.234, 19.699, 20.129, 21.804, 22.911, 21.594, 23.803, 25.309, 25.725, 25.93, 25.899, 25.439, 26.833, 25.526, 26.602, 25.886, 24.608, 23.429, 22.901, 21.818, 19.229, 16.97, 16.604, 14.961, 14.266, 12.897, 12.332, 11.024, 10.626, 9.9085, 8.995, 6.7947, 5.4398, 4.4269, 3.5523, 2.8963, 2.5082, 2.1603]\n",
      "Conner S Factor Error: [0.13, 0.15, 0.16, 0.17, 0.17, 0.18, 0.2, 0.2, 0.22, 0.23, 0.21, 0.24, 0.25, 0.26, 0.26, 0.26, 0.25, 0.27, 0.26, 0.27, 0.26, 0.25, 0.23, 0.23, 0.22, 0.2, 0.17, 0.17, 0.15, 0.14, 0.13, 0.12, 0.11, 0.11, 0.1, 0.09, 0.07, 0.05, 0.04, 0.04, 0.03, 0.03, 0.02]\n"
     ]
    }
   ],
   "source": [
    "#set up training data - Conner\n",
    "conner_dat = \"\"\"1.2420E-02  60e-6    1.3227E+01   0.13\n",
    "    1.5480E-02  68e-6    1.5174E+01   0.15\n",
    "    1.8600E-02  77e-6    1.5790E+01   0.16\n",
    "    2.0700E-02  82e-6    1.7328E+01   0.17\n",
    "    2.1780E-02  85e-6    1.7378E+01   0.17\n",
    "    2.4900E-02  93e-6    1.8234E+01   0.18\n",
    "    2.8020E-02  102e-6    1.9699E+01   0.20\n",
    "    2.9100E-02  105e-6    2.0129E+01   0.20\n",
    "    3.1200E-02  110e-6    2.1804E+01   0.22\n",
    "    3.3240E-02  116e-6    2.2911E+01   0.23\n",
    "    3.4260E-02  118e-6    2.1594E+01   0.21\n",
    "    3.7380E-02  127e-6    2.3803E+01   0.24\n",
    "    4.0500E-02  135e-6    2.5309E+01   0.25\n",
    "    4.1580E-02  138e-6    2.5725E+01   0.26\n",
    "    4.3680E-02  143e-6    2.5930E+01   0.26\n",
    "    4.5720E-02  149e-6    2.5899E+01   0.26\n",
    "    4.6800E-02  152e-6    2.5439E+01   0.25\n",
    "    4.9980E-02  161e-6    2.6833E+01   0.27\n",
    "    5.4180E-02  172e-6    2.5526E+01   0.26\n",
    "    5.6220E-02  177e-6    2.6602E+01   0.27\n",
    "    5.8260E-02  183e-6    2.5886E+01   0.26\n",
    "    6.2400E-02  193e-6    2.4608E+01   0.25\n",
    "    6.5400E-02  202e-6    2.3429E+01   0.23\n",
    "    6.6600E-02  205e-6    2.2901E+01   0.23\n",
    "    6.9000E-02  211e-6    2.1818E+01   0.22\n",
    "    7.5000E-02  227e-6    1.9229E+01   0.20\n",
    "    8.0400E-02  242e-6    1.6970E+01   0.17\n",
    "    8.1600E-02  245e-6    1.6604E+01   0.17\n",
    "    8.5800E-02  256e-6    1.4961E+01   0.15\n",
    "    8.7600E-02  261e-6    1.4266E+01   0.14\n",
    "    9.1800E-02  272e-6    1.2897E+01   0.13\n",
    "    9.3600E-02  277e-6    1.2332E+01   0.12\n",
    "    9.7200E-02  287e-6    1.1024E+01   0.11\n",
    "    1.0020E-01  295e-6    1.0626E+01   0.11\n",
    "    1.0380E-01  304e-6    9.9085E+00   0.10\n",
    "    1.0980E-01  320e-6    8.9950E+00   0.09\n",
    "    1.2300E-01  356e-6    6.7947E+00   0.07\n",
    "    1.3620E-01  392e-6    5.4398E+00   0.05\n",
    "    1.5060E-01  430e-6    4.4269E+00   0.04\n",
    "    1.6560E-01  470e-6    3.5523E+00   0.04\n",
    "    1.8120E-01  512e-6    2.8963E+00   0.03\n",
    "    1.9740E-01  555e-6    2.5082E+00   0.03\n",
    "    2.1420E-01  600e-6    2.1603E+00   0.02\n",
    "\"\"\"\n",
    "# Call separate_data function and unpack the returned tuples\n",
    "connerCOM, connerCOMerror, connersfactor, connersfactorerror = separate_data(conner_dat)\n",
    "\n",
    "# Print the separated data\n",
    "print(\"ConnerCOM:\", connerCOM) #training data X\n",
    "print(\"ConnerCOM Error:\", connerCOMerror)\n",
    "print(\"Conner S Factor:\", connersfactor) #training data Y \n",
    "print(\"Conner S Factor Error:\", connersfactorerror)"
   ]
  },
  {
   "cell_type": "code",
   "execution_count": 5,
   "id": "7550803d",
   "metadata": {},
   "outputs": [],
   "source": [
    "#reshapping arrays \n",
    "connerCOM = np.array(connerCOM)\n",
    "connersfactor = np.array(connersfactor)\n",
    "connerCOM = connerCOM.reshape(1, -1)\n",
    "connersfactor = connersfactor.reshape(1, -1)"
   ]
  },
  {
   "cell_type": "code",
   "execution_count": 6,
   "id": "d7f4fa7d",
   "metadata": {},
   "outputs": [],
   "source": [
    "kernel = DotProduct() + WhiteKernel() # using this as a kernel to follow example \n",
    "gpr = GaussianProcessRegressor(kernel=kernel, random_state=0).fit(connerCOM, connersfactor)"
   ]
  },
  {
   "cell_type": "code",
   "execution_count": 7,
   "id": "ed329ec6",
   "metadata": {
    "scrolled": true
   },
   "outputs": [],
   "source": [
    "#now to define our \"query points, start with x= 40\"\n",
    "\n",
    "# Assuming x_to_predict is a 1D array with length 43\n",
    "x_to_predict = np.array([0.04] * 43)\n",
    "\n",
    "# Reshape x_to_predict to have shape (1, 43)\n",
    "x_to_predict = x_to_predict.reshape(1, -1)"
   ]
  },
  {
   "cell_type": "code",
   "execution_count": 8,
   "id": "0e19b808",
   "metadata": {},
   "outputs": [
    {
     "data": {
      "text/plain": [
       "(array([[0.00488255, 0.00560126, 0.00582865, 0.00639638, 0.00641483,\n",
       "         0.00673081, 0.0072716 , 0.00743032, 0.00804863, 0.00845726,\n",
       "         0.00797111, 0.00878653, 0.00934244, 0.009496  , 0.00957168,\n",
       "         0.00956023, 0.00939043, 0.00990501, 0.00942255, 0.00981974,\n",
       "         0.00955544, 0.00908368, 0.00864847, 0.00845357, 0.00805379,\n",
       "         0.0070981 , 0.00626423, 0.00612912, 0.00552263, 0.00526608,\n",
       "         0.00476074, 0.00455218, 0.00406935, 0.00392243, 0.00365758,\n",
       "         0.00332037, 0.00250816, 0.00200802, 0.00163412, 0.00131128,\n",
       "         0.00106913, 0.00092587, 0.00079744]]),\n",
       " array([[18.56532136, 18.56532136, 18.56532136, 18.56532136, 18.56532136,\n",
       "         18.56532136, 18.56532136, 18.56532136, 18.56532136, 18.56532136,\n",
       "         18.56532136, 18.56532136, 18.56532136, 18.56532136, 18.56532136,\n",
       "         18.56532136, 18.56532136, 18.56532136, 18.56532136, 18.56532136,\n",
       "         18.56532136, 18.56532136, 18.56532136, 18.56532136, 18.56532136,\n",
       "         18.56532136, 18.56532136, 18.56532136, 18.56532136, 18.56532136,\n",
       "         18.56532136, 18.56532136, 18.56532136, 18.56532136, 18.56532136,\n",
       "         18.56532136, 18.56532136, 18.56532136, 18.56532136, 18.56532136,\n",
       "         18.56532136, 18.56532136, 18.56532136]]))"
      ]
     },
     "execution_count": 8,
     "metadata": {},
     "output_type": "execute_result"
    }
   ],
   "source": [
    "gpr.predict(x_to_predict, return_std=True, return_cov=False)"
   ]
  },
  {
   "cell_type": "code",
   "execution_count": null,
   "id": "b5eb3e16",
   "metadata": {},
   "outputs": [],
   "source": []
  },
  {
   "cell_type": "code",
   "execution_count": null,
   "id": "8031215b",
   "metadata": {},
   "outputs": [],
   "source": []
  },
  {
   "cell_type": "code",
   "execution_count": null,
   "id": "9acfbf45",
   "metadata": {},
   "outputs": [],
   "source": []
  },
  {
   "cell_type": "code",
   "execution_count": null,
   "id": "1c417ea1",
   "metadata": {},
   "outputs": [],
   "source": []
  },
  {
   "cell_type": "code",
   "execution_count": null,
   "id": "c8749437",
   "metadata": {},
   "outputs": [],
   "source": []
  }
 ],
 "metadata": {
  "kernelspec": {
   "display_name": "Python 3 (ipykernel)",
   "language": "python",
   "name": "python3"
  },
  "language_info": {
   "codemirror_mode": {
    "name": "ipython",
    "version": 3
   },
   "file_extension": ".py",
   "mimetype": "text/x-python",
   "name": "python",
   "nbconvert_exporter": "python",
   "pygments_lexer": "ipython3",
   "version": "3.11.3"
  }
 },
 "nbformat": 4,
 "nbformat_minor": 5
}
